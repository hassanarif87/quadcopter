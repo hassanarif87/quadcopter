{
 "cells": [
  {
   "cell_type": "code",
   "execution_count": null,
   "metadata": {},
   "outputs": [],
   "source": [
    "import control\n",
    "import plotly.express as px\n",
    "import numpy as np\n",
    "import pandas as pd"
   ]
  },
  {
   "cell_type": "code",
   "execution_count": null,
   "metadata": {},
   "outputs": [],
   "source": [
    "# First order dynamical system with analytical solution, for simple systems where we can get the solution "
   ]
  },
  {
   "cell_type": "code",
   "execution_count": null,
   "metadata": {},
   "outputs": [],
   "source": [
    "K = 30 # Gain\n",
    "T = 4 # time constant\n",
    "\n",
    "t_start = 0\n",
    "t_stop = 30\n",
    "dt = 0.1"
   ]
  },
  {
   "cell_type": "code",
   "execution_count": null,
   "metadata": {},
   "outputs": [],
   "source": [
    "t = np.arange(t_start,t_stop, dt)"
   ]
  },
  {
   "cell_type": "code",
   "execution_count": null,
   "metadata": {},
   "outputs": [],
   "source": [
    "y = K * (1 - np.exp(-t/T))"
   ]
  },
  {
   "cell_type": "code",
   "execution_count": null,
   "metadata": {
    "scrolled": false
   },
   "outputs": [],
   "source": [
    "df_results = pd.DataFrame()\n",
    "df_results['time'] = t\n",
    "df_results['y'] = y\n",
    "fig = px.line(df_results, x=\"time\", y=\"y\", title='1st order dynamical system analytical')\n",
    "fig.show()"
   ]
  },
  {
   "cell_type": "code",
   "execution_count": null,
   "metadata": {},
   "outputs": [],
   "source": [
    "# Using the scipy solver for the ode"
   ]
  },
  {
   "cell_type": "code",
   "execution_count": null,
   "metadata": {},
   "outputs": [],
   "source": [
    "from scipy.integrate import odeint\n",
    "# Initialization \n",
    "K = 3 \n",
    "T = 4\n",
    "u = 1\n",
    "t_start =0\n",
    "t_stop = 25\n",
    "y0=0\n",
    "t_odeint = np.arange(t_start,t_stop+1, dt)\n",
    "\n",
    "def sys1order(y,t, K, T, u):\n",
    "    y_dot = (1/T) * (-y + K * u)\n",
    "    return y_dot\n",
    "\n",
    "y_odeint = odeint ( sys1order, y0, t_odeint, args = (K,T,u))"
   ]
  },
  {
   "cell_type": "code",
   "execution_count": null,
   "metadata": {},
   "outputs": [],
   "source": [
    "df_results = pd.DataFrame()\n",
    "df_results['time'] = t_odeint\n",
    "df_results['y'] = y_odeint\n",
    "fig = px.line(df_results, x=\"time\", y=\"y\", title='1st order dynamical system ode')\n",
    "fig.show()"
   ]
  },
  {
   "cell_type": "code",
   "execution_count": null,
   "metadata": {},
   "outputs": [],
   "source": [
    "# Discreatization \n",
    "#y_dot ~= (y[k+1]-y[k])/Ts"
   ]
  },
  {
   "cell_type": "code",
   "execution_count": null,
   "metadata": {},
   "outputs": [],
   "source": [
    "a = -1/T\n",
    "b = K/T\n",
    "\n",
    "uk = 1\n",
    "yk = 0\n",
    "Ts = dt # sample time\n",
    "N = int(t_stop/Ts)\n",
    "data = []\n",
    "data.append(yk)\n",
    "\n",
    "#Newton euler\n",
    "for k in range(0,N):\n",
    "    y_dot = sys1order(yk, t, K, T, uk)\n",
    "    yk1 = yk + y_dot * Ts\n",
    "    yk = yk1\n",
    "    data.append(yk)\n",
    "t = np.arange(t_start,t_stop+Ts, Ts)\n"
   ]
  },
  {
   "cell_type": "code",
   "execution_count": null,
   "metadata": {},
   "outputs": [],
   "source": [
    "df_results = pd.DataFrame()\n",
    "df_results['time'] = t\n",
    "df_results['y'] = data\n",
    "fig = px.line(df_results, x=\"time\", y=\"y\", title='1st order dynamical system Discreatization')\n",
    "fig.show()"
   ]
  },
  {
   "cell_type": "code",
   "execution_count": null,
   "metadata": {},
   "outputs": [],
   "source": [
    "#Transfer function "
   ]
  },
  {
   "cell_type": "code",
   "execution_count": null,
   "metadata": {},
   "outputs": [],
   "source": [
    "K = 3\n",
    "T = 4\n",
    "num = np.array([K])\n",
    "den =np.array([T, 1])\n",
    "H = control.tf(num , den)\n",
    "print(H)"
   ]
  },
  {
   "cell_type": "code",
   "execution_count": null,
   "metadata": {},
   "outputs": [],
   "source": [
    "t, y = control.step_response(H)"
   ]
  },
  {
   "cell_type": "code",
   "execution_count": null,
   "metadata": {},
   "outputs": [],
   "source": [
    "df_results = pd.DataFrame()\n",
    "df_results['time'] = t\n",
    "df_results['y'] = y\n",
    "fig = px.line(df_results, x=\"time\", y=\"y\", title='1st order dynamical system Transfer function')\n",
    "fig.show()"
   ]
  },
  {
   "cell_type": "code",
   "execution_count": null,
   "metadata": {},
   "outputs": [],
   "source": [
    "#State space model"
   ]
  },
  {
   "cell_type": "code",
   "execution_count": null,
   "metadata": {},
   "outputs": [],
   "source": [
    "import scipy.signal as sig\n",
    "\n",
    "#Simulation Parameters\n",
    "x0 =[0,0]\n",
    "t_start = 0\n",
    "t_end = 30\n",
    "step=1\n",
    "t = np.arange(t_start, t_end, step)\n",
    "\n",
    "K = 3\n",
    "T = 4\n",
    "\n",
    "# State space model\n",
    "\n",
    "A = [[-1/T, 0],\n",
    "     [0, 0]]\n",
    "B =[[K/T],\n",
    "    [0]]\n",
    "C = [[1, 0]]\n",
    "D = 0\n",
    "\n",
    "sys = sig.StateSpace(A, B, C, D)\n",
    "\n",
    "#\n",
    "t, y_statespace = sig.step(sys, x0, t)\n",
    "\n",
    "# Transfer function from state space\n",
    "H = sys.to_tf()\n",
    "\n",
    "t, y_tf = sig.step(H, x0, t)"
   ]
  },
  {
   "cell_type": "code",
   "execution_count": null,
   "metadata": {},
   "outputs": [],
   "source": [
    "df_results = pd.DataFrame()\n",
    "df_results['time'] = t\n",
    "df_results['y_statespace'] = y_statespace\n",
    "df_results['y_tf'] = y_tf\n",
    "\n",
    "fig = px.line(df_results, x=\"time\", y=['y_statespace','y_tf'], title='1st order dynamical system State Space')\n",
    "fig.show()"
   ]
  },
  {
   "cell_type": "code",
   "execution_count": null,
   "metadata": {},
   "outputs": [],
   "source": [
    "# Bode Plot Scipy lib\n",
    "from plotting import bode \n",
    "# Define Transfer Function\n",
    "num1 = np.array([3])\n",
    "num2 = np.array([2, 1])\n",
    "num = np.convolve(num1, num2)\n",
    "den1 = np.array([3, 1])\n",
    "den2 = np.array([5, 1])\n",
    "den = np.convolve(den1, den2)\n",
    "H = sig.TransferFunction(num, den)\n",
    "print ('H(s) =', H)\n",
    "# Frequencies\n",
    "w_start = 0.01\n",
    "w_stop = 10\n",
    "step = 0.01\n",
    "N = int ((w_stop-w_start )/step) + 1\n",
    "w = np.linspace (w_start , w_stop , N)\n",
    "# Bode Plot\n",
    "w, mag, phase = sig.bode(H, w)\n",
    "bode_plot = bode(w, mag, phase)\n",
    "bode_plot.show()"
   ]
  },
  {
   "cell_type": "code",
   "execution_count": null,
   "metadata": {
    "scrolled": false
   },
   "outputs": [],
   "source": [
    "H = control.tf(num, den)\n",
    "print ('H(s) =', H)\n",
    "\n",
    "w, mag, phase  =control.bode(H, dB=True)"
   ]
  },
  {
   "cell_type": "code",
   "execution_count": null,
   "metadata": {},
   "outputs": [],
   "source": [
    "# PID control - discrete"
   ]
  },
  {
   "cell_type": "code",
   "execution_count": null,
   "metadata": {},
   "outputs": [],
   "source": [
    "a = -1/T\n",
    "b = K/T\n",
    "\n",
    "\n",
    "Ts = dt # sample time\n",
    "N = int(t_stop/Ts)\n",
    "\n",
    "#Propotional and integral gainss\n",
    "Kp = 0.5\n",
    "Ti = 5\n",
    "\n",
    "# Reference signal\n",
    "r = 5\n",
    "\n",
    "y = np.zeros(N+2)\n",
    "e = np.zeros(N+2)\n",
    "u = np.zeros(N+2)\n",
    "e_int = 0\n",
    "#Newton euler\n",
    "t = np.arange(t_start,t_stop+2*Ts, Ts)\n",
    "\n",
    "for k in range(N+1):\n",
    "    # Error\n",
    "    e[k] = r - y[k]\n",
    "    # Integrated error\n",
    "    e_int +=e[k] \n",
    "    #PI controller\n",
    "    u[k] = Kp*e[k] + Kp/Ti*e_int\n",
    "    # Dynamical system\n",
    "    y_dot = sys1order(y[k], t[k], K, T, u[k])\n",
    "    # State progression\n",
    "    y[k+1] = y[k] + y_dot * Ts\n",
    "\n"
   ]
  },
  {
   "cell_type": "code",
   "execution_count": null,
   "metadata": {},
   "outputs": [],
   "source": [
    "df_results = pd.DataFrame()\n",
    "df_results['time'] = t\n",
    "df_results['e'] = e\n",
    "df_results['u'] = u\n",
    "df_results['y'] = y\n",
    "\n",
    "fig = px.line(df_results, x=\"time\", y=['e','u','y'], title='1st order dynamical system with PI control')\n",
    "fig.show()"
   ]
  },
  {
   "cell_type": "code",
   "execution_count": null,
   "metadata": {},
   "outputs": [],
   "source": [
    "# Stability Analysis\n",
    "import matplotlib.pyplot as plt\n",
    "# Transfer Function Process\n",
    "K = 3; T = 4\n",
    "num_p = np.array ([K])\n",
    "den_p = np.array ([T , 1])\n",
    "Hp = control.tf(num_p , den_p)\n",
    "print ('Hp(s) =', Hp)\n",
    "# Transfer Function PI Controller\n",
    "Kp = 0.4\n",
    "Ti = 2\n",
    "num_c = np.array ([Kp*Ti, Kp])\n",
    "den_c = np.array ([Ti , 0])\n",
    "Hc = control.tf(num_c, den_c)\n",
    "print ('Hc(s) =', Hc)\n",
    "# Transfer Function Measurement\n",
    "Tm = 1\n",
    "num_m = np.array ([1])\n",
    "den_m = np.array ([Tm , 1])\n",
    "Hm = control.tf(num_m , den_m)\n",
    "print ('Hm(s) =', Hm)\n",
    "# Transfer Function Lowpass Filter\n",
    "Tf = 1\n",
    "num_f = np.array ([1])\n",
    "den_f = np.array ([Tf , 1])\n",
    "Hf = control.tf(num_f , den_f)\n",
    "print ('Hf(s) =', Hf)\n",
    "# The Loop Transfer function\n",
    "L = control.series(Hc, Hp, Hf, Hm)"
   ]
  },
  {
   "cell_type": "code",
   "execution_count": null,
   "metadata": {},
   "outputs": [],
   "source": [
    "# Tracking transfer function\n",
    "T = control.feedback(L,1)\n",
    "print ('T(s) =', T)\n",
    "# Step Response Feedback System (Tracking System)\n",
    "t, y = control.step_response(T)\n",
    "plt.figure(1)\n",
    "plt.plot(t,y)\n",
    "plt.title(\"Step Response Feedback System T(s)\")\n",
    "plt.grid()\n"
   ]
  },
  {
   "cell_type": "code",
   "execution_count": null,
   "metadata": {},
   "outputs": [],
   "source": [
    "# Bode Diagram with Stability Margins\n",
    "plt.figure(2)\n",
    "control.bode(L, dB=True, deg=True, margins=True)\n",
    "# Poles and Zeros\n",
    "plt.figure(3)\n",
    "control.pzmap(T)\n",
    "p = control.pole(T)\n",
    "z = control.zero(T)\n",
    "print(\"poles = \", p)\n",
    "# Calculating stability margins and crossover frequencies\n",
    "gm , pm , w180 , wc = control.margin(L)\n",
    "# Convert gm to Decibel\n",
    "gmdb = 20 * np.log10(gm)\n",
    "print(\"wc =\", f'{wc:.2f}', \"rad/s\")\n",
    "print(\"w180 =\", f'{w180:.2f}', \"rad/s\")\n",
    "print(\"GM =\", f'{gm:.2f}')\n",
    "print(\"GM =\", f'{gmdb:.2f}', \"dB\")\n",
    "print(\"PM =\", f'{pm:.2f}', \"deg\")\n",
    "# Find when Sysem is Marginally Stable (Kritical Gain - Kc)\n",
    "Kc = Kp*gm\n",
    "print(\"Kc =\", f'{Kc:.2f}')"
   ]
  }
 ],
 "metadata": {
  "kernelspec": {
   "display_name": "base",
   "language": "python",
   "name": "python3"
  },
  "language_info": {
   "codemirror_mode": {
    "name": "ipython",
    "version": 3
   },
   "file_extension": ".py",
   "mimetype": "text/x-python",
   "name": "python",
   "nbconvert_exporter": "python",
   "pygments_lexer": "ipython3",
   "version": "3.7.7"
  },
  "vscode": {
   "interpreter": {
    "hash": "b033017c70289b6b5bb71e62751a08a7bc90b64bf4691b666e0814d3194d6cef"
   }
  }
 },
 "nbformat": 4,
 "nbformat_minor": 4
}
