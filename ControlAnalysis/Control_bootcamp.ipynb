{
 "cells": [
  {
   "cell_type": "markdown",
   "metadata": {},
   "source": [
    "This notebook follows the control bootcamp lecture series from Steve Brunton\n",
    "\n",
    "https://www.youtube.com/watch?v=Pi7l8mMjYVE&list=PLMrJAkhIeNNR20Mz-VpzgfQs5zrYi085m&index=1 "
   ]
  },
  {
   "cell_type": "markdown",
   "metadata": {},
   "source": [
    "# Linear systems\n",
    "$$ \\dot x = Ax \\text{  where  } x \\in \\mathbb{R}$$\n",
    "\n",
    "Solution, here $x$ is a vector ($ \\vec x$) and $A$ is a matrix \n",
    "\n",
    "$$ x(t) = e^{At}x(0) $$\n",
    "\n",
    "Exponential of a matrix can be seen as taking the taylor series of the exponent and plugging in the matrix. Not very practical for computation\n",
    "\n",
    "$$e^{At} = I + At + \\frac{A^2t^2}{2!} + \\frac{A^3t^3}{3!} ... $$\n",
    "\n",
    "Use Eiganvalues and Eigenvectors for the matrix A, $\\xi$\n",
    "\n",
    "$$A \\xi = \\lambda\\xi $$\n",
    "Considering the simple case of n independnet eigen values\n",
    "\n",
    "$$T = [\\xi_1 \\xi_2 ... \\xi_n]$$\n",
    "Diagonal matrix\n",
    "$$D = diag([\\lambda_1 \\lambda_2 ... \\lambda_n])$$\n",
    "$$AT = TD$$\n",
    "$$ T^{-1}AT = D$$\n",
    "\n",
    "\n",
    "Transform x to z coordinates so that the system is eaiser to write\n",
    "\n",
    "$$ x = Tz $$ \n",
    "$$ \\dot x = T \\dot z = Ax $$\n",
    "$$ T \\dot z = ATz $$\n",
    "$$ \\dot z = T^{-1}ATz $$\n",
    "$$ \\dot z = Dz $$\n",
    "\n",
    "The dynamics become diagonal, the components of z are decoupled\n",
    "$$ \\dot z_1 = \\lambda_1 z_1 $$\n",
    "$$ \\dot z_2 = \\lambda_2 z_2 $$\n",
    "\n",
    "$$ \\dot z_n = \\lambda_n z_n $$\n",
    "\n",
    "$$ z(t) = e^{Dt}z(0) $$ Since all the z terms are independent\n",
    "$$ z(t) = diag([e^{\\lambda_1}, e^{\\lambda_2} ... e^{\\lambda_n}]) z(0) $$\n",
    "\n",
    "How do we map back?\n",
    "$$ A =TD T^{-1} $$\n",
    "\n",
    "$$  e^{At} =  e^{TD T^{-1}t}  $$\n",
    "\n",
    "$$e^{At} = TT^{-1} + TD T^{-1}t + \\frac{TD T^{-1}TD T^{-1}t^2}{2!} + \\frac{A^3t^3}{3!} ... $$\n",
    "$$e^{At} = TT^{-1} + TD T^{-1}t + \\frac{TD I D T^{-1}t^2}{2!} + \\frac{TD I D I D T^{-1}t^3}{3!} ... $$\n",
    "$$e^{At} =TT^{-1} + TD T^{-1}t + \\frac{TD^2 T^{-1}t^2}{2!} + \\frac{TD^3 T^{-1}t^3}{3!} ...\\frac{TD^n T^{-1}t^n}{n!} $$\n",
    "$$e^{At} =T[I + Dt + \\frac{D^2t^2}{2!} + \\frac{D^3 t^3}{3!} ...\\frac{D^nt^n}{n!}]T^{-1} $$\n",
    "$$e^{At} =Te^{Dt}T^{-1} $$\n",
    "\n",
    "$$ x(t) = Te^{Dt}T^{-1}x(0) $$\n",
    "\n",
    "We can therefore find a coordiate systemwhere these coupled equations become decoupled and are easy to solve"
   ]
  },
  {
   "cell_type": "code",
   "execution_count": null,
   "metadata": {},
   "outputs": [],
   "source": [
    "from scipy import linalg\n",
    "import numpy as np\n",
    "a = np.array([[0., -1.], [1., 0.]])\n",
    "linalg.eig(a)"
   ]
  },
  {
   "cell_type": "code",
   "execution_count": null,
   "metadata": {},
   "outputs": [],
   "source": [
    "linalg.eigvals(a) == linalg.eig(a)[0]\n"
   ]
  },
  {
   "cell_type": "markdown",
   "metadata": {},
   "source": [
    "# Stability and Eigenvalues\n",
    "\n",
    "$$ x(t) = Te^{Dt}T^{-1}x(0) $$\n",
    "\n",
    "What does the system do as time progresses does it explode or go to zero. If any lambda goes to infinity, the system will go to infinity\n",
    "\n",
    "$$ e^{Dt} = diag([e^{\\lambda_1}, e^{\\lambda_2} ... e^{\\lambda_n}])  $$\n",
    "\n",
    "Each of these eigen values have a real and imaginary part \n",
    "$$ \\lambda = a \\pm ib $$\n",
    "$$ e^{\\lambda t} = e^{at}[cos(bt) \\pm i sin(bt)]$$\n",
    "For a real valued system $A$ the imaginary parts of the eigenvalues come in a $\\pm$ pair. The imaginary parts cancel leaving with a real valued solution. The sign of $a$ determines the stability  of the system $[cos(bt) \\pm i sin(bt)]$ is always 1.\n",
    "Any $a > 0$ unstable\n",
    "All $a < 0$ stable\n",
    "\n",
    "In control systems we add $Bu$ to force the eiganvalues to the left half of the plane making it stable.\n",
    "\n",
    "## Discrete Systems\n",
    "In practice we can only measure the dynamics at a certain sample rate.\n",
    "$$ x_{k+1} = \\tilde{A} x_k\\text{, }x_k=x(k\\Delta t)$$\n",
    "$$\\tilde{A} = e^{A\\Delta t} $$\n",
    "Notion of stability in discrete time\n",
    "$$ x_{1} = \\tilde{A} x_0 $$\n",
    "$$ x_{2} = \\tilde{A}^2 x_0 $$\n",
    "$$ x_{N} = \\tilde{A}^N x_0 $$\n",
    "Again if we digonalize $\\tilde{A} $ for the Nth step we will get the eigenvalue $\\lambda ^N $ \n",
    "Any eigenvalue can be written as a radius and angle \n",
    "$$ \\lambda = Re^{i\\theta}$$\n",
    "We can see if the radius is greater than 1, the system blows up to infinity\n",
    "$$ \\lambda ^ N = R ^ N e^{i\\theta}$$\n",
    "Therefore, in the complex plane  for a discrete system stabilty lies if R is < 1 \n",
    "$$\\tilde A \\tilde  T = \\tilde  T\\tilde D$$\n",
    "$$ \\tilde T^{-1}\\tilde A \\tilde T = \\tilde D$$\n",
    "The stable unit circle for the discrete plane maps exactly to the left half plane of the continous system.\n",
    "Stability for both depend completely on the eigenvalues"
   ]
  },
  {
   "cell_type": "markdown",
   "metadata": {},
   "source": [
    "# Linearizing a system about a Fixed point\n",
    "\n",
    "$$ \\dot x = f(x) \\rightarrow  \\dot x = Ax $$\n",
    "\n",
    "1. Find fixed pointes $ \\bar x \\text{ s.t. } f(x) =0 $\n",
    "2. Linearize about $ \\bar x $. A non linear system look linear zoomed in close to the stable point\n",
    "\n",
    "$$\\frac{Df}{Dx}\\vert _\\bar x = [\\frac{\\partial f_i}{x_j} ]$$\n",
    "\n",
    "Redefine $x $ since that $\\bar x = 0 $ and take a taylor expansion. The higher order terms can be ignored. \n",
    "$$\\Delta \\dot x = \\frac{Df}{Dx}\\vert _\\bar x \\Delta x  + \\frac{D^2f}{Dx^2}\\vert _\\bar x \\Delta x^2 ... \\text{ where } \\Delta x = x - \\bar x $$\n",
    "For points close to the stable point $\\Delta x^ 2 $ will be really small. Thus we an take the linearized system as:\n",
    "$$\\Delta \\dot x = \\frac{Df}{Dx}\\vert _\\bar x \\Delta x $$\n",
    "A good controller will keep the system close to the linearized fixed point.\n",
    "\n",
    "Caviat : Hartman–Grobman theorem\n",
    "The theorem states that the behaviour of a dynamical system in a domain near a hyperbolic equilibrium point is qualitatively the same as the behaviour of its linearisation near this equilibrium point, where hyperbolicity means that no eigenvalue of the linearisation has real part equal to zero. Therefore, when dealing with such dynamical systems one can use the simpler linearisation of the system to analyse its behaviour around equilibria\n",
    "\n",
    "## Pendulum \n",
    "$$ \\ddot \\theta = -\\frac{g}{L}sin(\\theta) -b\\dot \\theta $$\n",
    "\n",
    "State space model, taking $ \\frac{g}{L} = 1 $\n",
    "$$\n",
    "\\begin{bmatrix}\n",
    "x_1  \\\\  x_2  \n",
    "\\end{bmatrix} =\n",
    "\\begin{bmatrix}\n",
    "\\theta  \\\\  \\dot\\theta  \n",
    "\\end{bmatrix}\n",
    "$$\n",
    "$$ \\frac{d}{dt} \\begin{bmatrix}\n",
    "x_1  \\\\  x_2  \n",
    "\\end{bmatrix} = \n",
    "\\begin{bmatrix}\n",
    "x_2  \\\\\n",
    "-sin(x_1) -b x_2 \n",
    "\\end{bmatrix}\n",
    "$$\n",
    "$$ \\bar x = \n",
    "\\begin{bmatrix}\n",
    "0 \\\\\n",
    "0 \n",
    "\\end{bmatrix},\n",
    "\\begin{bmatrix}\n",
    "\\pi\\\\\n",
    "0 \n",
    "\\end{bmatrix}\n",
    "$$\n",
    "$$\n",
    "\\frac{Df}{Dx} = \n",
    "\\begin{bmatrix}\n",
    "0 & 1 \\\\\n",
    "-cos(x_1) & -b \n",
    "\\end{bmatrix}\n",
    "$$\n",
    "$$\n",
    "A_d = \n",
    "\\begin{bmatrix}\n",
    "0 & 1 \\\\\n",
    "-1 & -b \n",
    "\\end{bmatrix}\n",
    "\\text{, }\n",
    "A_u = \n",
    "\\begin{bmatrix}\n",
    "0 & 1 \\\\\n",
    "1 & -b \n",
    "\\end{bmatrix}\n",
    "$$\n",
    "Getting the eigenvalues"
   ]
  },
  {
   "cell_type": "code",
   "execution_count": null,
   "metadata": {},
   "outputs": [],
   "source": [
    "#\n",
    "b = 0.1\n",
    "A_d = np.array([[0., 1.], [-1., -b]])\n",
    "linalg.eig(A_d)[0]\n",
    "\n",
    "# both real eigenvalues are negative, stable "
   ]
  },
  {
   "cell_type": "code",
   "execution_count": null,
   "metadata": {},
   "outputs": [],
   "source": [
    "A_u = np.array([[0., 1.], [1., -b]])\n",
    "linalg.eig(A_u)[0]\n",
    "\n",
    "#  one real eigenvalues is positive, unstable "
   ]
  },
  {
   "cell_type": "markdown",
   "metadata": {},
   "source": [
    "# Controllability \n",
    "\n",
    "Now we add a control parameter u.\n",
    "\n",
    "$$ \\dot x = Ax + Bu \\text{  where  } x \\in \\mathbb{R}^n  u \\in \\mathbb{R}^q  A \\in \\mathbb{R}^{nxm}  B \\in \\mathbb{R}^{nxq}  $$\n",
    "\n",
    "$$ y = C x $$\n",
    "\n",
    "Use the control law $K$ which is optimal for linear systems (in some sense). If the system s controllable then for a certain matrix K this is the best controller to stablize the system. Linear (proportional) control does great in that case \n",
    "$$ u = -K x $$\n",
    "We can change the dynamics with this sensor based feedback control, now we have a linear system with the matrix $(A -KB)$. By choosing the right $K$ we can move around the eigenvalues.\n",
    "$$ \\dot x =Ax  -KBx $$\n",
    "$$ \\dot x =(A  - KB)x $$\n",
    "\n",
    "The system is controllable if we can puth the eigenvalues where we want, and choosing the right u we can steer the system to where we want it to go.\n",
    "\n",
    "In most real cases, we get handed A, the dynamics of the system and B, the actuators that control the system, and C would be what we can measure ie sensors. \n",
    "From A and B we can tell if the system is controllable.\n",
    "\n",
    "Assuming full state feedback, $y=x$\n",
    "\n",
    "$$\n",
    "A = \n",
    "\\begin{bmatrix}\n",
    "1 & 0 \\\\\n",
    "0 & 2 \n",
    "\\end{bmatrix}\n",
    "$$\n",
    "\n",
    "Taking a good B and a bad B\n",
    "$$\n",
    "B_b = \n",
    "\\begin{bmatrix}\n",
    "0  \\\\\n",
    "1  \n",
    "\\end{bmatrix}\n",
    "\\text{, }\n",
    "B_g = \n",
    "\\begin{bmatrix}\n",
    "1 & 0 \\\\\n",
    "0 & 1 \n",
    "\\end{bmatrix}\n",
    "$$\n",
    "\n",
    "In this case the $A$, $B_b$ pair is not controllable. $x_1$ is not effected by $u$, incase of $B_g$ $u_1$ could control $x_1$, we have more control authority (actuators). Alternatively, if there was coupling in A. The system can become controllable with one $u$.\n",
    "$$\n",
    "A_2 = \n",
    "\\begin{bmatrix}\n",
    "1 & 1 \\\\\n",
    "0 & 2 \n",
    "\\end{bmatrix}\n",
    "$$\n",
    "\n",
    "Even for large state systems, if the A matrix is tightly coupled, we can stablize a lot of states with a small $u$ \n",
    "\n",
    "Controllability matrix (not C)\n",
    "If and only if this has n linearly independent columns, then the system is controllable. If not some directions are not controllable. Kind of an impulse response.\n",
    "$$ \\mathscr{C} = \\begin{bmatrix}B & AB & A^2B &....&A^{n-1}B\\end{bmatrix}$$\n",
    "Controllable iff $rank(\\mathscr{C})$ =n \n",
    "Does not tell how controllable, the SVD of the matrix can tell which directions are most controllable"
   ]
  },
  {
   "cell_type": "code",
   "execution_count": null,
   "metadata": {},
   "outputs": [],
   "source": [
    "import control\n",
    "A = np.array([[1, 0], [0, 2]])\n",
    "A_2 = np.array([[1, 1], [0, 2]])\n",
    "b_g = np.array([[1, 0], [0, 2]])\n",
    "b_b = np.array([[0], [1]])\n",
    "\n",
    "control.ctrb(A, b_g)"
   ]
  },
  {
   "cell_type": "code",
   "execution_count": null,
   "metadata": {},
   "outputs": [],
   "source": [
    "control.ctrb(A, b_b)"
   ]
  },
  {
   "cell_type": "code",
   "execution_count": null,
   "metadata": {},
   "outputs": [],
   "source": [
    "control.ctrb(A_2, b_b)"
   ]
  },
  {
   "cell_type": "markdown",
   "metadata": {},
   "source": [
    "## Controllability, Reachability, and Eigenvalue Placement\n",
    "\n",
    "Three equivalence to controllability\n",
    "1. System is controllable\n",
    "2. Arbitrary eigenvalue (pole) placement\n",
    "$$ u =-Kx \\rightarrow \\dot x = (A - BK) x$$ \n",
    "3. Reachability ( full in $\\mathbb{R}^n$), if the system is controllable we can obtain a $u$ to reach any state. Reachable set is all of the states in $\\mathbb{R}^n$\n",
    "$$\\mathbb{R}_t = \\{ \\xi \\in \\mathbb{R}^n| \\text{ there is an input $u(t)$ such that $\\xi = u(t)$}  \\} $$\n",
    "$$ \\mathbb{R}_t = \\mathbb{R}^n $$\n",
    "\n",
    "\n",
    "Eg in case if the linearized inverted pendulum we can move the control eigenvalues far to the left"
   ]
  },
  {
   "cell_type": "code",
   "execution_count": null,
   "metadata": {},
   "outputs": [],
   "source": [
    "np.linalg.matrix_rank (control.ctrb(A_2, b_b)) "
   ]
  },
  {
   "cell_type": "code",
   "execution_count": null,
   "metadata": {},
   "outputs": [],
   "source": [
    "A = [[-1, -1], [0, 1]]\n",
    "B = [[0], [1]]\n",
    "# Gain matrix K for for desired eigenvalues \n",
    "K = control.place(A, B, [-2, -5])\n",
    "K"
   ]
  },
  {
   "cell_type": "markdown",
   "metadata": {},
   "source": [
    "Why is the system controllable when full rank? \n",
    "\n",
    "take a discrete system \n",
    "\n",
    "$ X_{k+1} =AX_k + Bu_k$\n",
    "\n",
    "Take the impulse response \n",
    "$$ u_0 = 1,\\text { }        x_0 = 0 $$\n",
    "$$ u_1 = 0,\\text { }           x_1 = B $$\n",
    "$$ u_2 = 0,\\text { }           x_2 = AB $$\n",
    "$$ u_3 = 0,\\text { }           x_3 = A^2B $$\n",
    "$$ u_4 = 0,\\text { }x_4 = A^3B $$\n",
    "the input rings through the system and touches every state in R_n. If the impulse response does not reach some state in R_n they will be uncontrollable. \n",
    "The impulse response is the controllability matrix, this is the space control can effect. "
   ]
  },
  {
   "cell_type": "markdown",
   "metadata": {},
   "source": [
    "## Degrees Controllability\n",
    "\n",
    "We know the solution, convolution integral\n",
    "$$ x(t) = e^{At} x(0) +  \\int_{t}^{0}e^{A(t-\\tau)} Bu(\\tau)d\\tau$$ \n",
    "\n",
    "Gramian (Controllability) -> in this case real value and symetric \n",
    "$$ W_t =\\int_{t}^{0}e^{A\\tau} B B ^T e^{A^T\\tau}dt \\in \\mathbb{R}^{n \\times n}$$\n",
    "Looking at eigenvalue decomposition, the eigen vectors corresponding to the biggest eigenvalues are the most controllables in the state space. We can go further in the direction wiht the same amount of input energy. We see how controllable the states are.\n",
    "$$ W_t \\xi = \\lambda \\xi $$\n",
    "For discrete time systems, impulse response matrix. Eigenvalues and eigenvector of $W_t$ ar ethe singular vectors and values of $\\mathscr{C}$\n",
    "$$ W_t \\approx \\mathscr{C} \\mathscr{C}^T$$\n",
    "$$[ U,\\Sigma,V] = svd(\\mathscr{C}) $$\n",
    "These define an energy ellipsoid"
   ]
  },
  {
   "cell_type": "code",
   "execution_count": null,
   "metadata": {},
   "outputs": [],
   "source": [
    "P, D, Q = np.linalg.svd(control.ctrb(A_2, b_g))\n",
    "\n",
    "print(P )\n",
    "print(D )\n",
    "print(Q )"
   ]
  },
  {
   "cell_type": "markdown",
   "metadata": {},
   "source": [
    "If n is very large, controlability of all of R_n is not really needed. We aew more insrested in controlling the less stable direction. Often times we care about stabilizability. We want the unstable directions to be in the controlability matrix\n",
    "System is stabilizable iif all of  its unstable directions ( eiganvectors of A) are controllable (Column of the controllability matrix). This could be stable/ lightly damped. We want to choose our actuators accoirdingly"
   ]
  },
  {
   "cell_type": "markdown",
   "metadata": {},
   "source": [
    "## Controllability and the PBH Test\n",
    "Papove Belavitch Hautus  Test\n",
    "\n",
    "1. (A,b) is controllable iff $rank [(A-\\lambda I) B] = n \\text{  } \\forall \\lambda \\in \\mathbb{C}$ but we only need to test at eigen values. That matrix has rank n unless its an eigenvalue. The matrix is rank deficiant in the eigen vector direction. we only need to test at the eigen values\n",
    "\n",
    "2. B needs to have some component in each eigenvector direction.\n",
    "3. (Advanced) of B is a random vector \n",
    "$ B = rand(n,1)$ $(A,B)$ will be controllable with high probability \n",
    "\n",
    "This test can also tell how many u we need (I.E the minimum number of actuators) . If $ [(A-\\lambda I)$ has a repeated eignvalue, more u dimensions will be needed. We might want multiple columns of B if $[(A-\\lambda I) $ is almost degenerate.\n",
    "\n",
    "We might even want to have multilple values of Bif we have nearly equal eigenvalues. Or if the system if bearly controllable  "
   ]
  },
  {
   "cell_type": "markdown",
   "metadata": {},
   "source": [
    "## Cayley-Hamilton Theorem\n",
    "\n",
    "$$ \\dot x = Ax + Bu $$ \n",
    "\n",
    "(Almost) Every square matrix A satisfies its own charateristic (eigenvalue) equation.\n",
    "$$det(A-\\lambda I ) $$\n",
    "Characteristic polynomial roots of which are the eigenvalues of A.\n",
    "$$ \\lambda^n + a_{n-1} \\lambda^{n-1} + ... a_2 \\lambda^{2} + a_1 \\lambda +a_0  = 0 $$\n",
    "$$ A^n + a_{n-1}  A^{n-1} + ... a_2 A^{2} + a_1 A + a_0I  = 0 $$\n",
    "$$ A^n  =  -a_0 I - a_1 A  -a_2 A^{2}  ... -a_{n-1} A^{n-1} = 0 $$\n",
    "$$ A^{\\geq n} = \\sum_{n-1}^{j=0}\\alpha_jA^{j-1} $$\n",
    "\n",
    "Using this we can get the finite sum representation $e^{At} $\n",
    "$$e^{At} = I + At + \\frac{A^2t^2}{2!} + \\frac{A^3t^3}{3!} ... $$\n",
    "\n",
    "$$e^{At} =  \\alpha_0(t) I +\\alpha_1(t) A + \\alpha_2(t) A^{2}  ... +\\alpha_{n-1}(t) A^{n-1} . $$\n"
   ]
  },
  {
   "cell_type": "markdown",
   "metadata": {},
   "source": [
    "##  Reachability and Controllability with Cayley-Hamilton\n",
    "\n",
    "If $ \\xi  \\in \\mathbb{R}^n $ is reachable\n",
    "then $ \\xi = \\int_{t}^{0}e^{A(t-\\tau)} Bu(\\tau)d\\tau $\n",
    "\n",
    "If a state is reacheable there is some u for which $\\xi $ is equal the integral.\n",
    "\n",
    "$$ \\xi = \\int_{t}^{0}( \\phi_0(t-\\tau)u(\\tau) IB + \\phi_1(t-\\tau)u(\\tau) AB + \\phi_2(t-\\tau)u(\\tau) A^{2}B  ... + \\phi_{n-1}(t-\\tau)u(\\tau) A^{n-1}B) d\\tau $$\n",
    "\n",
    "$$ \\xi = B\\int_{t}^{0}( \\phi_0(t-\\tau)u(\\tau)  d\\tau  + AB\\int_{t}^{0} \\phi_1(t-\\tau)u(\\tau)  d\\tau + A^{2}B \\int_{t}^{0}\\phi_2(t-\\tau)u(\\tau) d\\tau   ... + A^{n-1}B \\int_{t}^{0} \\phi_{n-1}(t-\\tau)u(\\tau) ) d\\tau $$\n",
    "\n",
    "$$ \\xi =\\begin{bmatrix} B,AB,A^{2}B,    ..., A^{n-1}B  \\end{bmatrix} \n",
    "\\begin{bmatrix}\n",
    "\\int_{t}^{0}( \\phi_0(t-\\tau)u(\\tau)d\\tau, \n",
    "\\int_{t}^{0} \\phi_1(t-\\tau)u(\\tau)d\\tau , \\int_{t}^{0}\\phi_2(t-\\tau)u(\\tau)d\\tau , ..., \\int_{t}^{0} \\phi_{n-1}(t-\\tau)u(\\tau)d\\tau \n",
    "\\end{bmatrix}^T $$\n",
    "\n",
    "The $\\xi $ can be written as as product of the controlability matrix with the  convolutions of the time varing coefficents with the control input  u(t). If the controlability has rank = n then we can cook up some u to get to any state in out state space. If this full rank thats the nly way the states are reachable.\n",
    "\n",
    "Is here is a unique u(t) to give us $ \\xi $, there are actually infinite many u(t) that will reach the state $ \\xi $ if the system is controllable. there are may paths to reach $ \\xi $ "
   ]
  },
  {
   "attachments": {
    "image-2.png": {
     "image/png": "[encoded data removed]"
    }
   },
   "cell_type": "markdown",
   "metadata": {},
   "source": [
    "# Inverted Pendulum on a Cart\n",
    "\n",
    "![image-2.png](attachment:image-2.png)\n",
    "\n",
    "This is a 2 degree of freedom system $ x $ and $ \\theta $. With newtons second law we get 4 coupled ODEs. First order non linear odes \n",
    "$$ X = [x, \\dot{x}, \\theta, \\dot{\\theta} ] $$ \n",
    "$$ \\frac{d}{dt}x = f(x) $$\n",
    "We can linearize the system about its fixed points. to get linear equations $ \\dot x = Ax + Bu $, where u is the force on the cart in the x direction\n",
    "$$ \\theta = 0,\\pi $$\n",
    "$$ \\dot \\theta = 0 $$\n",
    "$$ \\dot x  = 0 $$\n",
    "$ x $ is a free variable \n",
    "\n"
   ]
  },
  {
   "cell_type": "code",
   "execution_count": null,
   "metadata": {},
   "outputs": [],
   "source": [
    "def u_(K,y,y_ref):\n",
    "    return np.dot(-K, (y - y_ref))\n",
    "\n",
    "def cartpend(x,t,m,M,L,g,d,K,x_ref): \n",
    "    #d is damping on the cart\n",
    "    u = u_(K, x, x_ref)\n",
    "    s_x = np.sin(x[2]) # theta\n",
    "    c_x = np.cos(x[2])\n",
    "    D = m*L*L*(M+m*(1-c_x**2))\n",
    "\n",
    "    dx = np.zeros(4)\n",
    "    dx[0] = x[1]\n",
    "    dx[1] = (1/D)*(-m**2*L**2*g*c_x*s_x + m*L**2*(m*L*x[3]**2*s_x - d *x[1])) + m*L*L*(1/D)*u\n",
    "    dx[2] = x[3]\n",
    "    dx[3] = (1/D)*((m+M)*m*g*L*s_x - m*L*c_x*(m*L*x[3]**2*s_x - d*x[1])) - m*L*c_x*(1/D)*u\n",
    "\n",
    "    return dx\n"
   ]
  },
  {
   "cell_type": "markdown",
   "metadata": {},
   "source": [
    "The non linear dynamical equations above are tedious  but can driven from Euler-lagrange \n",
    "Derivation of equations of motion:\n",
    "https://www.youtube.com/watch?v=Fo7kuUAHj3s \n",
    "\n",
    "The force enters through the x dot and the theta dot. "
   ]
  },
  {
   "cell_type": "code",
   "execution_count": null,
   "metadata": {},
   "outputs": [],
   "source": [
    "from scipy.integrate import odeint\n",
    "import pandas as pd\n",
    "import plotly.express as px\n",
    "from plotting import pend_cart_animation \n",
    "\n",
    "# Initialization \n",
    "m = 1\n",
    "M = 5\n",
    "L = 2 \n",
    "g = -10\n",
    "d = 1\n",
    "K = np.zeros(4)\n",
    "\n",
    "b = 1; #Pendulum up (b=1)\n",
    "\n",
    "t_start =0\n",
    "t_stop = 10\n",
    "dt = 0.05\n",
    "# X \n",
    "x0= np.array([0,0,np.pi,0.5])\n",
    "x_ref= np.array([1,0,np.pi,0.5])\n",
    "\n",
    "t_odeint = np.arange(t_start,t_stop+1, dt)\n",
    "\n",
    "y_odeint  = odeint ( cartpend, x0, t_odeint, args = (m,M,L,g,d,K,x_ref), rtol =1e-11, atol = 1e-12 )"
   ]
  },
  {
   "cell_type": "code",
   "execution_count": null,
   "metadata": {},
   "outputs": [],
   "source": [
    "#from scipy.integrate import solve_ivp\n",
    "#t_span = [0 ,2]\n",
    "#sol = solve_ivp(fun = cartpend, t_span = t_span, y0 = y0, args = (m,M,L,g,d,u) , dense_output=True)\n"
   ]
  },
  {
   "cell_type": "code",
   "execution_count": null,
   "metadata": {
    "scrolled": false
   },
   "outputs": [],
   "source": [
    "df_results = pd.DataFrame()\n",
    "df_results['time'] = t_odeint\n",
    "df_results['x'] = y_odeint[:,0]\n",
    "df_results['v'] = y_odeint[:,1]\n",
    "df_results['theta'] = y_odeint[:,2]\n",
    "df_results['omega'] = y_odeint[:,3]\n",
    "pend_cart_animation(df_results, x0)"
   ]
  },
  {
   "cell_type": "markdown",
   "metadata": {},
   "source": [
    "We will design the controller about the linearized model about a fixed  point. And apply it to the ture non linear system.\n",
    "\n",
    "We will check the controllability of the system about this point\n"
   ]
  },
  {
   "cell_type": "code",
   "execution_count": null,
   "metadata": {},
   "outputs": [],
   "source": [
    "m = 1\n",
    "M = 5\n",
    "L = 2\n",
    "g = -10\n",
    "d = 1\n",
    "b = 1# Pendulum up (b=1) Pendulum down (b=-1)\n",
    "A = np.array([\n",
    "    [0, 1, 0, 0],\n",
    "    [0, -d/M, -m*g/M, 0],\n",
    "    [0, 0, 0, 1],\n",
    "    [0, -b*d/(M*L), -b*(m+M)*g/(M*L), 0]\n",
    "])\n",
    "B = np.array([0, 1/M, 0, b*1/(M*L)]).reshape(4,1)\n"
   ]
  },
  {
   "cell_type": "markdown",
   "metadata": {},
   "source": [
    "We can see one of the eigenvalue is unstable "
   ]
  },
  {
   "cell_type": "code",
   "execution_count": null,
   "metadata": {},
   "outputs": [],
   "source": [
    "linalg.eig(A)[0]\n"
   ]
  },
  {
   "cell_type": "code",
   "execution_count": null,
   "metadata": {},
   "outputs": [],
   "source": [
    "control.ctrb(A, B)"
   ]
  },
  {
   "cell_type": "code",
   "execution_count": null,
   "metadata": {},
   "outputs": [],
   "source": [
    "np.linalg.matrix_rank (control.ctrb(A, B)) "
   ]
  },
  {
   "cell_type": "markdown",
   "metadata": {},
   "source": [
    "The rank is 4, we can span all of the state space with the controllability subspace. We can develop a controller to controll the system\n",
    "$$ u =  -Kx $$\n",
    "$$ \\dot x =(A  - KB)x $$\n",
    "Design K such that they can be where we want.\n",
    "We will move the unstable eigenvalue to the stable left half of the plane, with some proportional feedback of x. "
   ]
  },
  {
   "cell_type": "markdown",
   "metadata": {},
   "source": [
    "## Pole Placement for the Inverted Pendulum on a Cart \n",
    "\n",
    "If the system is controllable with the full state feedback (pos, vel) we can design the controller. "
   ]
  },
  {
   "cell_type": "code",
   "execution_count": null,
   "metadata": {},
   "outputs": [],
   "source": [
    "desired_eigen = [ -1.1, -1.2, - 1.3, - 1.4]\n",
    "K = control.place(A, B, desired_eigen)\n",
    "K"
   ]
  },
  {
   "cell_type": "code",
   "execution_count": null,
   "metadata": {
    "scrolled": true
   },
   "outputs": [],
   "source": [
    "# Check if the controller has the desired eigenvalues\n",
    "linalg.eig(A-B*K)[0]\n"
   ]
  },
  {
   "cell_type": "markdown",
   "metadata": {},
   "source": [
    "Following are some test Eigenvalues( poles) \n",
    "\n",
    "Faster more aggressive further on the -ve plane\n"
   ]
  },
  {
   "cell_type": "code",
   "execution_count": null,
   "metadata": {},
   "outputs": [],
   "source": [
    "desired_eigen = [ -0.3, -0.4, -0.5, -0.6]\n",
    "desired_eigen = [ -1, -1.1, -1.2, -1.3]\n",
    "desired_eigen = [ -2, -2.1, -2.2, -2.3]\n",
    "desired_eigen = [ -5, -5.1, -5.2, -5.3]"
   ]
  },
  {
   "cell_type": "code",
   "execution_count": null,
   "metadata": {},
   "outputs": [],
   "source": [
    "K = control.place(A, B, desired_eigen)\n",
    "K"
   ]
  },
  {
   "cell_type": "code",
   "execution_count": null,
   "metadata": {},
   "outputs": [],
   "source": [
    "t_start =0\n",
    "t_stop = 5\n",
    "dt = 0.05\n",
    "# X \n",
    "x0= np.array([0,0,np.pi,0.5])\n",
    "x_ref= np.array([-1,0,np.pi,0])\n",
    "\n",
    "t_odeint = np.arange(t_start,t_stop+1, dt)"
   ]
  },
  {
   "cell_type": "code",
   "execution_count": null,
   "metadata": {},
   "outputs": [],
   "source": [
    "y_odeint  = odeint ( cartpend, x0, t_odeint, args = (m,M,L,g,d,K,x_ref), rtol =1e-11, atol = 1e-12 )"
   ]
  },
  {
   "cell_type": "code",
   "execution_count": null,
   "metadata": {
    "scrolled": false
   },
   "outputs": [],
   "source": [
    "df_results = pd.DataFrame()\n",
    "df_results['time'] = t_odeint\n",
    "df_results['x'] = y_odeint[:,0]\n",
    "df_results['v'] = y_odeint[:,1]\n",
    "df_results['theta'] = y_odeint[:,2]\n",
    "df_results['omega'] = y_odeint[:,3]\n",
    "\n",
    "fig = px.line(df_results, x=\"time\", y=['x','theta','v', 'omega'], title='Cart pendulum')\n",
    "fig.show()"
   ]
  },
  {
   "cell_type": "code",
   "execution_count": null,
   "metadata": {},
   "outputs": [],
   "source": [
    "pend_cart_animation(df_results, x0)"
   ]
  },
  {
   "cell_type": "markdown",
   "metadata": {},
   "source": [
    "Moving the eigenvalues into the left half of the plane makes the systems respond faster, and agressive. \n",
    "The system also gets very jerky, a lot of control atority (actuator force) is needed to get the system to respond.\n",
    "\n",
    "If the poles are moved too far in to the left domain the system becomes unstable bacasue the nonlinear drynamics.\n",
    "\n",
    "As we move the poles to the left we increse the system dymanics, we make it faster but less robust. The nonlinear system might not act like the linearized system we built our controller around. \n",
    "\n",
    "There is an ideal set of  eigenvalues balancing time and control effort. This ths the Linear Quadratic Regulator, this gives us an optimal gian matrix K. "
   ]
  },
  {
   "cell_type": "markdown",
   "metadata": {},
   "source": [
    "## Linear Quadratic Regulator (LQR) Control for the Inverted Pendulum on a Cart\n",
    "\n",
    "Where do we place the eigenvalues (poles)?\n",
    "LQR\n",
    "If we can make a cost function on how slow the system is and a cost on how expensive the actuation is (force, energy) \n",
    "\n",
    "Q (nxn) matrix that tells how bad the penelty it is  if x is not where we want it to be. Similarly R is he cost of the actuation \n",
    "\n",
    "$$ J = \\int_{0}^{\\infty} (x^TQx + u^TRu )  dt $$\n",
    "\n",
    "$$\n",
    "Q= \n",
    "\\begin{bmatrix}\n",
    "1 & 0 & 0 & 0 \\\\\n",
    "0 & 1 & 0 & 0  \\\\\n",
    "0 & 0 & 10 & 0  \\\\\n",
    "0 & 0  & 0  & 100\n",
    "\\end{bmatrix}\n",
    "$$\n",
    "\n",
    "The diagonal terms in the Q matrix represent the penalties for each of states in the state vector. E.g if we want more cost in a certian terms we can increase it in orders of magnitude as a start. \n",
    "\n",
    "$$\n",
    "R= 0.001\n",
    "$$\n",
    "\n",
    "Very low cost to R in this case, e.g low energy cost very powerful motor.\n",
    "\n",
    "* This a linear controller, its linear matrix times the state. Full state feedback control. \n",
    "* It minimises a quadratic cost funtion, and has a well defined minimum cost \n",
    "* Regulator is simply saying it stablizes the system. "
   ]
  },
  {
   "cell_type": "code",
   "execution_count": null,
   "metadata": {},
   "outputs": [],
   "source": [
    "Q = np.diag([1,1,10,100]) # % 4x4 identify matrix\n",
    "R = .001"
   ]
  },
  {
   "cell_type": "code",
   "execution_count": null,
   "metadata": {},
   "outputs": [],
   "source": [
    "K, S, E = control.lqr(A,B,Q,R)\n",
    "print(\"K: \", K)\n",
    "print(\"EigenValues: \", E)"
   ]
  },
  {
   "cell_type": "markdown",
   "metadata": {},
   "source": [
    "Takes one of the eignevalues and makes it really aggressive, maybe the $ \\dot \\theta$. We can probe this further. Looking at the first column of the eigenvectors, corresponding to the most stable eigenvalue. The biggest terms are for $ \\dot x$ and $ \\dot \\theta $.\n",
    "\n",
    "The controller  wants aggressive control for $ \\dot x$ and $ \\dot \\theta $.\n",
    "\n",
    "LQR (Riccati equation) can be expensive for high dimentional systems $ O(n^3) $.\n",
    "This is optimal full state feedback control with respect to the  cost function."
   ]
  },
  {
   "cell_type": "code",
   "execution_count": null,
   "metadata": {},
   "outputs": [],
   "source": [
    "w,v = linalg.eig(A-B*K)\n",
    "print(\"Eigenvalues: \", np.real(w))\n",
    "# \n",
    "print(\"First Column of the eigen vectors: \", np.real(v[:,0]))"
   ]
  },
  {
   "cell_type": "code",
   "execution_count": null,
   "metadata": {},
   "outputs": [],
   "source": [
    "y_odeint  = odeint ( cartpend, x0, t_odeint, args = (m,M,L,g,d,K,x_ref), rtol =1e-11, atol = 1e-12 )"
   ]
  },
  {
   "cell_type": "code",
   "execution_count": null,
   "metadata": {},
   "outputs": [],
   "source": [
    "df_results = pd.DataFrame()\n",
    "df_results['time'] = t_odeint\n",
    "df_results['x'] = y_odeint[:,0]\n",
    "df_results['v'] = y_odeint[:,1]\n",
    "df_results['theta'] = y_odeint[:,2]\n",
    "df_results['omega'] = y_odeint[:,3]\n",
    "\n",
    "fig = px.line(df_results, x=\"time\", y=['x','theta','v', 'omega'], title='Cart pendulum')\n",
    "fig.show()"
   ]
  },
  {
   "cell_type": "code",
   "execution_count": null,
   "metadata": {},
   "outputs": [],
   "source": [
    "pend_cart_animation(df_results, x0)"
   ]
  },
  {
   "attachments": {
    "image-2.png": {
     "image/png": "[encoded data removed]"
    },
    "image.png": {
     "image/png": "[encoded data removed]"
    }
   },
   "cell_type": "markdown",
   "metadata": {},
   "source": [
    "## Motivation for Full-State Estimation\n",
    "\n",
    "$$ \\dot x = Ax + Bu \\text{ } x \\in \\mathbb{R}^n \\text { }  u \\in \\mathbb{R}^q \\$$\n",
    "\n",
    "![image.png](attachment:image.png)\n",
    "\n",
    "Full state is being measured and is used in the controller and is feedback to the system.\n",
    "$$ \\dot x = Ax - BKx \\\\ \n",
    " \\dot x = (A - BK)x $$\n",
    "The regulator can be called $K_r $\n",
    "\n",
    "In real life we ofter dont have access to all the variables $x$, only know $y$. Can we back out the full state? \n",
    "\n",
    "$$ y = C x \\text { }  y \\in \\mathbb{R}^p$$ \n",
    "\n",
    "In many cases we can get a full estimation wiht one row / measurement. Before we were  looking at the controllability ctrb(A,B ), now we will be looking at the observability obsv(A,B). Both problems are similar in terms of linear algebra. \n",
    "\n",
    "Obvs: Can I estimate any high dimentional states x from a time series of my measurements of y(t)\n",
    "\n",
    "Even in a very high order system we can estiamate the states of our system from very few measurements, if we know what the dynamics are. Rank of obvs(A, C) is full\n",
    "\n",
    "We would like to estimate the full feedback, we know that if we have that and optimal controller is really easy to get. We need to develop an observer or esimator to do that. \n",
    "We will develop an estimator, in this case the kalman filter. The output of the estimator will be the full state-feed back. Both x and u make its way to the kalman filter.  \n",
    "\n",
    "This is a linear dynamical system that estimates the full state $\\hat x$.\n",
    "\n",
    "The same techniques used to develop the LQR will be used for the  optimal KF estimator .\n",
    "\n",
    "![image-2.png](attachment:image-2.png)\n",
    "\n",
    "The combine system of the optimal controller and estimator will still be optimal."
   ]
  },
  {
   "cell_type": "markdown",
   "metadata": {},
   "source": [
    "# Observability\n",
    "\n",
    "There is a duality between controllability and observability. \n",
    "\n",
    "$$ \\mathscr{O} = \\begin{bmatrix}C & CA & CA^2 &....&CA^{n-1}\\end{bmatrix}^T$$\n",
    "\n",
    "1) Observable of the rank (row space) of the matrix spans n\n",
    "\n",
    "2) If this true we can estimate the full state x form y. \n",
    "\n",
    "KF is a linear dynamical system the eigenvalues of which tell us how fast the estimate $ \\hat x $ converges to $ x $. We can do eigenvalues placement to make the system faster of slower. A real system has noise so we dont want the KF to be too aggresive. It may over emphasize noise.\n",
    "\n",
    "In a similar manner there is an Obvs gramian. In the most observable direction the signal to noise will be the best. "
   ]
  },
  {
   "cell_type": "code",
   "execution_count": null,
   "metadata": {},
   "outputs": [],
   "source": [
    "# np.linalg.matrix_rank (control.obsv(A, C)) \n",
    "# U ,D, V= np.linalg.svd(control.obsv(A, C))\n",
    "\n",
    "# The rows of np.transpose(V) are the most observable states in the state space. "
   ]
  },
  {
   "cell_type": "markdown",
   "metadata": {},
   "source": [
    "## Full-State Estimation\n",
    "\n",
    "$x,u$ --> [Estimator] --> $ \\hat x $\n",
    "\n",
    "This estimator (not a KF yet) is a dynamical system. Filter gain $ K_f $\n",
    "\n",
    "$$ \\frac{d}{dt} \\hat x = A \\hat x + B u + K_f(y-\\hat y) $$\n",
    "$$ \\hat y = C \\hat x $$\n",
    "\n",
    "This is similar to the dynamical system for , except everytime we get a measurement we compare it to what we think it should be and correct it if there is a difference. $ K_f(y-\\hat y) $ is the update.\n",
    "\n",
    "$$ \\frac{d}{dt} \\hat x = A \\hat x + B u + K_fy- K_fC \\hat x $$\n",
    "$$ \\frac{d}{dt} \\hat x = (A - K_fC )\\hat x + \n",
    "\\begin{bmatrix}B & K_f \\end{bmatrix} \n",
    "\\begin{bmatrix} u \\\\ y\\end{bmatrix} $$\n"
   ]
  },
  {
   "cell_type": "code",
   "execution_count": null,
   "metadata": {},
   "outputs": [],
   "source": []
  }
 ],
 "metadata": {
  "kernelspec": {
   "display_name": "Python 3",
   "language": "python",
   "name": "python3"
  },
  "language_info": {
   "codemirror_mode": {
    "name": "ipython",
    "version": 3
   },
   "file_extension": ".py",
   "mimetype": "text/x-python",
   "name": "python",
   "nbconvert_exporter": "python",
   "pygments_lexer": "ipython3",
   "version": "3.7.7"
  }
 },
 "nbformat": 4,
 "nbformat_minor": 4
}
