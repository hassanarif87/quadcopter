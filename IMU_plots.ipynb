{
 "cells": [
  {
   "cell_type": "code",
   "execution_count": null,
   "metadata": {},
   "outputs": [],
   "source": [
    "import numpy as np\n",
    "import plotly.express as px\n",
    "\n",
    "import pandas as pd\n",
    "from SimObjects.SensorModel import Accelometer, Gyroscope, Magnetometer\n",
    "from SimObjects.DynamicObj import SixDofState"
   ]
  },
  {
   "cell_type": "code",
   "execution_count": null,
   "metadata": {},
   "outputs": [],
   "source": [
    "dt = 0.1\n",
    "state = SixDofState.zero_states('zero')"
   ]
  },
  {
   "cell_type": "code",
   "execution_count": null,
   "metadata": {},
   "outputs": [],
   "source": [
    "accel = Accelometer(dt)"
   ]
  },
  {
   "cell_type": "code",
   "execution_count": null,
   "metadata": {},
   "outputs": [],
   "source": [
    "gyro = Gyroscope(dt)"
   ]
  },
  {
   "cell_type": "code",
   "execution_count": null,
   "metadata": {},
   "outputs": [],
   "source": [
    "# update()"
   ]
  },
  {
   "cell_type": "code",
   "execution_count": null,
   "metadata": {},
   "outputs": [],
   "source": [
    "f = 1/dt\n",
    "tstart = 0\n",
    "tend= 600\n",
    "time = np.linspace(tstart,tend,(int)(tend*f))\n",
    "accel_truth = [0,0,0]\n",
    "accel_sensor = []\n",
    "gyro_sensor = []\n",
    "for t in time:\n",
    "    accel_sensor.append(accel.update(state,accel_truth))\n",
    "    gyro_sensor.append(gyro.update(state))\n",
    "accel_sensor = np.array(accel_sensor)\n",
    "gyro_sensor = np.array(gyro_sensor)"
   ]
  },
  {
   "cell_type": "code",
   "execution_count": null,
   "metadata": {},
   "outputs": [],
   "source": [
    "output_x = dict(\n",
    "    t=time,\n",
    "    gyro_x=gyro_sensor[:,0],\n",
    "    gyro_y=gyro_sensor[:,1],\n",
    "    gyro_z=gyro_sensor[:,2],\n",
    "    accel_x=accel_sensor[:,0],\n",
    "    accel_y=accel_sensor[:,1],\n",
    "    accel_z=accel_sensor[:,2]\n",
    "\n",
    ")\n",
    "df_x = pd.DataFrame(output_x)"
   ]
  },
  {
   "cell_type": "code",
   "execution_count": null,
   "metadata": {},
   "outputs": [],
   "source": [
    "px.line(df_x, x=\"t\", y=[\"gyro_x\",\"gyro_y\",\"gyro_z\"], title='Gyro')"
   ]
  },
  {
   "cell_type": "code",
   "execution_count": null,
   "metadata": {},
   "outputs": [],
   "source": [
    "px.line(df_x, x=\"t\", y=[\"accel_x\",\"accel_y\",\"accel_z\"], title='Accel')\n"
   ]
  },
  {
   "cell_type": "code",
   "execution_count": null,
   "metadata": {},
   "outputs": [],
   "source": []
  }
 ],
 "metadata": {
  "kernelspec": {
   "display_name": "Python 3",
   "language": "python",
   "name": "python3"
  },
  "language_info": {
   "codemirror_mode": {
    "name": "ipython",
    "version": 3
   },
   "file_extension": ".py",
   "mimetype": "text/x-python",
   "name": "python",
   "nbconvert_exporter": "python",
   "pygments_lexer": "ipython3",
   "version": "3.7.7"
  }
 },
 "nbformat": 4,
 "nbformat_minor": 4
}
